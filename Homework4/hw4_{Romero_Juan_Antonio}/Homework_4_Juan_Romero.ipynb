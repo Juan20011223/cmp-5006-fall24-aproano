{
 "cells": [
  {
   "cell_type": "markdown",
   "metadata": {
    "id": "-km-7WOcZTPN"
   },
   "source": []
  },
  {
   "cell_type": "markdown",
   "metadata": {
    "id": "QO_QOxmAs7VU"
   },
   "source": [
    "# 1. Cite the articles of the constitution and COIP that address the topic of information security and information privacy:"
   ]
  },
  {
   "cell_type": "markdown",
   "metadata": {
    "id": "YCuWekgsZSMy"
   },
   "source": [
    "Article 156:\n",
    "Electronic communication records such as emails, text messages, or chat logs can be considered documentary evidence in criminal proceedings. Investigators may obtain these records through legal means, such as subpoenas or search warrants, and present them as evidence of communication relevant to the case.\n",
    "\n",
    "Article 178:\n",
    "Violation of Privacy.\n",
    "The person who, without having consent or legal authorization, accesses, intercepts, examines, retains, records, reproduces, disseminates, or publishes personal data, data messages, voice, audio and video, postcards, information contained in computer media, or private or reserved communications of another person by any means, will be punished with a custodial sentence of one to three years.\n",
    "Exceptions apply to individuals who disclose audio or video recordings in which they personally participated or when the information is public in accordance with the law.\n",
    "\n",
    "Article 179:\n",
    "Revelation of Secrets.\n",
    "A person who, by virtue of their position, employment, profession, or trade, has knowledge of a secret whose disclosure could harm another person and reveals it will be punished with imprisonment ranging from six months to one year.\n",
    "\n",
    "Article 229:\n",
    "Disclosure of Registered Information.\n",
    "A person who, for personal benefit or the benefit of a third party, discloses registered information contained in files, archives, databases, or similar means, obtained through or directed to an electronic, computer, telematic, or telecommunications system, thereby violating the secrecy, intimacy, and privacy of individuals, will be punished with a custodial sentence of one to three years.\n",
    "If the offender is a public servant, an internal bank employee, or an employee of institutions of the popular and solidarity economy that perform financial intermediation, the penalty increases to three to five years of imprisonment.\n",
    "\n",
    "Article 230:\n",
    "Illegal Interception of Data.\n",
    "A custodial sentence of three to five years applies to anyone who, without prior judicial authorization and for personal or third-party benefit, intercepts, listens to, diverts, records, or observes:\n",
    "\n",
    "Computer data at its origin, destination, or within a system,\n",
    "A signal or data transmission.\n",
    "This offense is committed with the intention of obtaining registered or available information illicitly."
   ]
  },
  {
   "cell_type": "markdown",
   "metadata": {
    "id": "QrETM8eks5_Y"
   },
   "source": []
  },
  {
   "cell_type": "markdown",
   "metadata": {
    "id": "0JxJ7RHPcp8Q"
   },
   "source": [
    "# 2. Describe and summarize such articles, and provide their scope\n",
    "\n",
    "\n",
    "Article 156:\n",
    "This article permits the use of electronic communication records, such as emails, text messages, and chat logs, as evidence in criminal cases. These records must be obtained legally, through mechanisms like subpoenas or search warrants.\n",
    "\n",
    "Scope:\n",
    "\n",
    "Ensures that electronic communications can serve as valid evidence in legal processes.\n",
    "Regulates the lawful retrieval of digital evidence, balancing investigation needs with privacy rights.\n",
    "\n",
    "Article 178:\n",
    "This article penalizes unauthorized access, interception, or dissemination of personal data or private communications. It safeguards individuals’ privacy rights and protects them against unlawful intrusions into their personal and digital lives.\n",
    "\n",
    "Scope:\n",
    "\n",
    "Protects personal and sensitive data from misuse or unauthorized access.\n",
    "Provides exceptions for individuals disclosing public information or their recordings.\n",
    "Punishes violations with imprisonment to deter privacy breaches.\n",
    "\n",
    "Article 179:\n",
    "This article penalizes individuals who disclose confidential information obtained through their position, profession, or trade if such disclosure causes harm.\n",
    "\n",
    "Scope:\n",
    "\n",
    "Protects sensitive information that individuals access by virtue of their professional roles.\n",
    "Establishes accountability for breaches of confidentiality, ensuring trust in professional and institutional relationships.\n",
    "\n",
    "Article 229:\n",
    "This article penalizes the unauthorized disclosure of information contained in electronic systems, files, or databases. It safeguards personal privacy by prohibiting deliberate violations for personal gain or third-party benefit.\n",
    "\n",
    "Scope:\n",
    "\n",
    "Prevents intentional data breaches and misuse of stored or transmitted information.\n",
    "Increases penalties for public officials and financial sector employees to ensure stricter adherence to privacy standards.\n",
    "\n",
    "Article 230:\n",
    "This article addresses the unauthorized interception, surveillance, or recording of computer data or transmissions without prior judicial authorization. It aims to protect the confidentiality and integrity of electronic communications and systems.\n",
    "\n",
    "Scope:\n",
    "\n",
    "Safeguards electronic communications against unlawful surveillance or data interception.\n",
    "Upholds judicial oversight as a requirement for lawful access to sensitive digital information.\n",
    "Ensures penalties for those undermining the privacy and security of communication systems."
   ]
  },
  {
   "cell_type": "markdown",
   "metadata": {
    "id": "SNvtuSd-eEvZ"
   },
   "source": [
    "\n",
    "# 3. What kind of crimes or infractions can a person be judged for using those articles?\n",
    "\n",
    "Interception of Computer Data and Espionage:\n",
    "Under Article 179, individuals who reveal secrets learned through their position, profession, or trade that cause harm to others can be penalized. Crimes include:\n",
    "\n",
    "Unauthorized access to confidential corporate or governmental data.\n",
    "Espionage by intercepting sensitive information and using it to damage reputations, disrupt operations, or gain unlawful advantages.\n",
    "Article 230 further penalizes acts of:\n",
    "\n",
    "Intercepting, listening to, or observing computer data transmissions without judicial authorization.\n",
    "Cyber espionage targeting private or public entities, including accessing data at its origin or destination.\n",
    "These crimes aim to protect the confidentiality and integrity of sensitive information and data systems."
   ]
  },
  {
   "cell_type": "markdown",
   "metadata": {
    "id": "rYOHLbZkppdz"
   },
   "source": [
    "# 4. How do the terms of service of applications like WhatsApp and TikTok align with the privacy laws in Ecuador? What kind of protections are Ecuadorian citizens guaranteed under the law?\n",
    "\n",
    "Alignment with Ecuadorian Privacy Laws:\n",
    "Ecuadorian privacy laws, such as Article 66 of the Constitution, guarantee citizens the right to control their personal information, including who collects it and how it is used. Applications like WhatsApp and TikTok generally align with these laws by:\n",
    "\n",
    "Transparency: Both platforms disclose their data collection practices, how they use the information, and how long they retain it.\n",
    "User Control: They provide mechanisms for users to manage their data, such as privacy settings, data deletion requests, or opting out of targeted ads.\n",
    "Although these platforms comply with privacy laws in Ecuador, their global policies may sometimes be influenced by stricter regulations in regions like the EU (GDPR).\n",
    "\n",
    "Protections Guaranteed Under Ecuadorian Law:\n",
    "\n",
    "Right to Privacy (Article 66): Citizens can control access to and use of their personal information.\n",
    "\n",
    "Protection Against Unauthorized Access (Article 178): It is illegal to intercept, access, or disseminate personal data without consent.\n",
    "\n",
    "Accountability for Data Use (Article 229): Unauthorized disclosure of private information is punishable, ensuring legal recourse in case of data breaches or misuse.\n",
    "Conclusion:\n",
    "While WhatsApp and TikTok align with Ecuadorian privacy laws by maintaining transparency in their policies, broader geopolitical concerns, such as national security (e.g., the U.S.'s scrutiny of TikTok), raise questions about whether these platforms adhere to the highest standards globally. This discrepancy may highlight gaps in privacy enforcement in countries with fewer resources to monitor compliance effectively."
   ]
  }
 ],
 "metadata": {
  "colab": {
   "provenance": []
  },
  "kernelspec": {
   "display_name": "Python 3",
   "name": "python3"
  },
  "language_info": {
   "name": "python"
  }
 },
 "nbformat": 4,
 "nbformat_minor": 0
}
